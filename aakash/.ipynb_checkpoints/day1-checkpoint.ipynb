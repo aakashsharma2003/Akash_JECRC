{
 "cells": [
  {
   "cell_type": "code",
   "execution_count": 3,
   "id": "bb787db7-b1d8-4ff0-9cb9-c2f79b02f18e",
   "metadata": {},
   "outputs": [
    {
     "name": "stdout",
     "output_type": "stream",
     "text": [
      "hello\n"
     ]
    }
   ],
   "source": [
    "print('hello')"
   ]
  },
  {
   "cell_type": "markdown",
   "id": "098c5e04-fb0a-4b74-8ed2-f35a949dcc39",
   "metadata": {},
   "source": [
    "\n",
    "# First heading"
   ]
  },
  {
   "cell_type": "markdown",
   "id": "ef22354b-2e82-45d9-ba4f-530fce5cabb6",
   "metadata": {},
   "source": [
    "# Second heading"
   ]
  },
  {
   "cell_type": "markdown",
   "id": "4f07386e-1fa1-4e86-a597-7c404c9dc9f8",
   "metadata": {},
   "source": [
    "* This is the first point\n",
    "* this is the second point"
   ]
  },
  {
   "cell_type": "markdown",
   "id": "9094124d-b9fa-4043-be97-e16a9525c215",
   "metadata": {},
   "source": [
    "1. This is the third point\n",
    "2. This is the fourth poit"
   ]
  },
  {
   "cell_type": "code",
   "execution_count": 5,
   "id": "9fa036ae-1379-4cb5-84d1-34cdb261a30f",
   "metadata": {},
   "outputs": [],
   "source": [
    "    import os\n",
    "    "
   ]
  },
  {
   "cell_type": "code",
   "execution_count": 11,
   "id": "a3b45060-8407-412f-b7a5-d3288b123991",
   "metadata": {},
   "outputs": [
    {
     "data": {
      "text/plain": [
       "'C:\\\\Users\\\\AAkash\\\\Desktop\\\\python training\\\\anaconda_day_1'"
      ]
     },
     "execution_count": 11,
     "metadata": {},
     "output_type": "execute_result"
    }
   ],
   "source": [
    "os.getcwd()"
   ]
  },
  {
   "cell_type": "code",
   "execution_count": 14,
   "id": "344d7671-2f9f-40f8-8f6b-44b9f7ae92bd",
   "metadata": {},
   "outputs": [],
   "source": [
    "os.chdir('C:\\\\Users\\\\AAkash\\\\Desktop\\\\python training\\\\aakash')\n",
    "         "
   ]
  },
  {
   "cell_type": "code",
   "execution_count": 17,
   "id": "8eef3054-4b19-49ed-8f7e-68b24aca4565",
   "metadata": {},
   "outputs": [
    {
     "data": {
      "text/plain": [
       "['Empty_folder']"
      ]
     },
     "execution_count": 17,
     "metadata": {},
     "output_type": "execute_result"
    }
   ],
   "source": [
    "os.listdir('C:\\\\Users\\\\AAkash\\\\Desktop\\\\python training\\\\aakash')"
   ]
  },
  {
   "cell_type": "code",
   "execution_count": 21,
   "id": "3973383d-e846-4a5f-a33a-1fbe0231838f",
   "metadata": {},
   "outputs": [],
   "source": [
    "os.mkdir('Empty_folder')"
   ]
  },
  {
   "cell_type": "code",
   "execution_count": 22,
   "id": "3e6c6edf-04ec-4800-8081-2981cb918475",
   "metadata": {},
   "outputs": [],
   "source": [
    "# TO remove folder\n",
    "os.rmdir('Empty_folder')"
   ]
  },
  {
   "cell_type": "markdown",
   "id": "8ea0c250-1329-4eb8-82cc-bed5b97777a2",
   "metadata": {},
   "source": [
    "Random"
   ]
  },
  {
   "cell_type": "code",
   "execution_count": 23,
   "id": "a6a4c7db-0dd5-48dc-887e-c182508446fd",
   "metadata": {},
   "outputs": [],
   "source": [
    "import random"
   ]
  },
  {
   "cell_type": "code",
   "execution_count": 24,
   "id": "0873fcba-eece-47d3-8691-2cc2cc2fca5c",
   "metadata": {},
   "outputs": [
    {
     "name": "stdout",
     "output_type": "stream",
     "text": [
      "0.3975402339193168\n"
     ]
    }
   ],
   "source": [
    "val=random.random()\n",
    "print(val)"
   ]
  },
  {
   "cell_type": "code",
   "execution_count": null,
   "id": "7271310d-e0cf-4f14-872b-d483985670de",
   "metadata": {},
   "outputs": [],
   "source": []
  }
 ],
 "metadata": {
  "kernelspec": {
   "display_name": "Python 3 (ipykernel)",
   "language": "python",
   "name": "python3"
  },
  "language_info": {
   "codemirror_mode": {
    "name": "ipython",
    "version": 3
   },
   "file_extension": ".py",
   "mimetype": "text/x-python",
   "name": "python",
   "nbconvert_exporter": "python",
   "pygments_lexer": "ipython3",
   "version": "3.9.12"
  }
 },
 "nbformat": 4,
 "nbformat_minor": 5
}
