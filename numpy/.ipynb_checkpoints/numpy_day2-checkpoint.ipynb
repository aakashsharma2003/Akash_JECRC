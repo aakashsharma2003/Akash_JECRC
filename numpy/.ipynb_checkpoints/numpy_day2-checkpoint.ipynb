{
 "cells": [
  {
   "cell_type": "code",
   "execution_count": 5,
   "id": "9969313c-de52-4efa-abff-1268b943c267",
   "metadata": {},
   "outputs": [],
   "source": [
    "import numpy as np\n"
   ]
  },
  {
   "cell_type": "code",
   "execution_count": 6,
   "id": "a89721f6-6577-4382-8cbe-fa64984d39bd",
   "metadata": {},
   "outputs": [],
   "source": [
    "a=np.array( [ [1,2,3,4], [5,6,7,8], [9,10,11,12] ] )"
   ]
  },
  {
   "cell_type": "code",
   "execution_count": 7,
   "id": "36e0dc12-8202-4143-9ec8-64b9fc0ab0b5",
   "metadata": {},
   "outputs": [
    {
     "name": "stdout",
     "output_type": "stream",
     "text": [
      "[[ 1  2  3  4]\n",
      " [ 5  6  7  8]\n",
      " [ 9 10 11 12]]\n"
     ]
    }
   ],
   "source": [
    "print(a)"
   ]
  },
  {
   "cell_type": "code",
   "execution_count": 9,
   "id": "38a08d35-bef0-4a69-8591-c1dd9dd374e9",
   "metadata": {},
   "outputs": [
    {
     "data": {
      "text/plain": [
       "array([2, 3, 4])"
      ]
     },
     "execution_count": 9,
     "metadata": {},
     "output_type": "execute_result"
    }
   ],
   "source": [
    "a[0][1:5:1]"
   ]
  },
  {
   "cell_type": "code",
   "execution_count": 10,
   "id": "5e5bba5b-20b9-40aa-a468-53de73424611",
   "metadata": {},
   "outputs": [
    {
     "data": {
      "text/plain": [
       "array([1])"
      ]
     },
     "execution_count": 10,
     "metadata": {},
     "output_type": "execute_result"
    }
   ],
   "source": [
    "a[[0],[0]]"
   ]
  },
  {
   "cell_type": "code",
   "execution_count": 12,
   "id": "f7f4f3e2-9b3b-46c4-9780-89fe5a1d1645",
   "metadata": {},
   "outputs": [
    {
     "data": {
      "text/plain": [
       "array([9])"
      ]
     },
     "execution_count": 12,
     "metadata": {},
     "output_type": "execute_result"
    }
   ],
   "source": [
    "a[[2],[0]]"
   ]
  },
  {
   "cell_type": "code",
   "execution_count": 8,
   "id": "aa858667-29d7-44c8-a70f-e6ac7cc7e96d",
   "metadata": {},
   "outputs": [
    {
     "data": {
      "text/plain": [
       "(3, 4)"
      ]
     },
     "execution_count": 8,
     "metadata": {},
     "output_type": "execute_result"
    }
   ],
   "source": [
    "a.shape"
   ]
  },
  {
   "cell_type": "code",
   "execution_count": 9,
   "id": "3e442ea1-aad3-40f8-93d1-a63dec8a710b",
   "metadata": {},
   "outputs": [
    {
     "data": {
      "text/plain": [
       "array([10, 11])"
      ]
     },
     "execution_count": 9,
     "metadata": {},
     "output_type": "execute_result"
    }
   ],
   "source": [
    "a[2,1:3]\n"
   ]
  },
  {
   "cell_type": "code",
   "execution_count": 12,
   "id": "4c90c813-78e4-4a0f-8782-4a1272638f9f",
   "metadata": {},
   "outputs": [
    {
     "data": {
      "text/plain": [
       "array([10, 11, 12])"
      ]
     },
     "execution_count": 12,
     "metadata": {},
     "output_type": "execute_result"
    }
   ],
   "source": [
    "a[2,1:6:1]"
   ]
  },
  {
   "cell_type": "code",
   "execution_count": 23,
   "id": "65031fb6-356e-42c8-87e7-839b271cd230",
   "metadata": {},
   "outputs": [
    {
     "data": {
      "text/plain": [
       "array([2, 9])"
      ]
     },
     "execution_count": 23,
     "metadata": {},
     "output_type": "execute_result"
    }
   ],
   "source": [
    "a[[0,2],[1,0]]"
   ]
  },
  {
   "cell_type": "code",
   "execution_count": 19,
   "id": "9db01a80-6f15-448c-acbe-1dc35c2c7166",
   "metadata": {},
   "outputs": [
    {
     "data": {
      "text/plain": [
       "array([[ 7,  8],\n",
       "       [11, 12]])"
      ]
     },
     "execution_count": 19,
     "metadata": {},
     "output_type": "execute_result"
    }
   ],
   "source": [
    "a[1:,2:]#n[row:,collumn:]"
   ]
  },
  {
   "cell_type": "code",
   "execution_count": 25,
   "id": "0f5f53bc-3f1c-41d5-81ef-a20ffd763c23",
   "metadata": {},
   "outputs": [
    {
     "data": {
      "text/plain": [
       "array([5, 6])"
      ]
     },
     "execution_count": 25,
     "metadata": {},
     "output_type": "execute_result"
    }
   ],
   "source": [
    "a[1,:2]"
   ]
  },
  {
   "cell_type": "markdown",
   "id": "d21ffb6e-8afd-4ae0-a88e-2362a3b09739",
   "metadata": {},
   "source": [
    "# arange"
   ]
  },
  {
   "cell_type": "code",
   "execution_count": 26,
   "id": "e1a543c1-c3aa-4e56-ac18-345040fa91dc",
   "metadata": {},
   "outputs": [
    {
     "data": {
      "text/plain": [
       "[5, 6, 7, 8, 9]"
      ]
     },
     "execution_count": 26,
     "metadata": {},
     "output_type": "execute_result"
    }
   ],
   "source": [
    "list (range(5,10))"
   ]
  },
  {
   "cell_type": "code",
   "execution_count": 27,
   "id": "d197fb12-f83c-49d4-82c9-03299e2bf516",
   "metadata": {},
   "outputs": [
    {
     "data": {
      "text/plain": [
       "array([ 5,  6,  7,  8,  9, 10, 11, 12, 13, 14, 15, 16, 17, 18, 19, 20, 21,\n",
       "       22, 23, 24, 25, 26, 27, 28, 29, 30, 31, 32, 33, 34, 35, 36, 37, 38,\n",
       "       39, 40, 41, 42, 43, 44, 45, 46, 47, 48, 49, 50])"
      ]
     },
     "execution_count": 27,
     "metadata": {},
     "output_type": "execute_result"
    }
   ],
   "source": [
    "np.arange(5,51)"
   ]
  },
  {
   "cell_type": "code",
   "execution_count": 28,
   "id": "7ad43b6c-87c0-421c-85e2-5e46621736b2",
   "metadata": {},
   "outputs": [
    {
     "data": {
      "text/plain": [
       "array([ 2.5,  3.5,  4.5,  5.5,  6.5,  7.5,  8.5,  9.5, 10.5, 11.5, 12.5,\n",
       "       13.5, 14.5, 15.5, 16.5, 17.5, 18.5, 19.5, 20.5, 21.5])"
      ]
     },
     "execution_count": 28,
     "metadata": {},
     "output_type": "execute_result"
    }
   ],
   "source": [
    "np.arange(2.5,22.1)"
   ]
  },
  {
   "cell_type": "markdown",
   "id": "3dc2c627-d696-41e0-a9f0-3603e664d5b4",
   "metadata": {},
   "source": [
    "# reshape"
   ]
  },
  {
   "cell_type": "code",
   "execution_count": 30,
   "id": "cdf1236a-fb59-4c97-8cb7-43eae756f543",
   "metadata": {},
   "outputs": [
    {
     "data": {
      "text/plain": [
       "array([[ 0,  1,  2,  3],\n",
       "       [ 4,  5,  6,  7],\n",
       "       [ 8,  9, 10, 11]])"
      ]
     },
     "execution_count": 30,
     "metadata": {},
     "output_type": "execute_result"
    }
   ],
   "source": [
    "np.arange(12).reshape(3,4)"
   ]
  },
  {
   "cell_type": "code",
   "execution_count": 31,
   "id": "7a91e465-5ff1-40d3-9775-d0f512e0bc54",
   "metadata": {},
   "outputs": [
    {
     "data": {
      "text/plain": [
       "2.0"
      ]
     },
     "execution_count": 31,
     "metadata": {},
     "output_type": "execute_result"
    }
   ],
   "source": [
    "np.sqrt(4)"
   ]
  },
  {
   "cell_type": "code",
   "execution_count": 35,
   "id": "8a88069a-3695-4ef1-bbe0-d61162ed17ed",
   "metadata": {},
   "outputs": [
    {
     "data": {
      "text/plain": [
       "12"
      ]
     },
     "execution_count": 35,
     "metadata": {},
     "output_type": "execute_result"
    }
   ],
   "source": [
    "a.max()"
   ]
  },
  {
   "cell_type": "code",
   "execution_count": 36,
   "id": "ebfc043f-1482-469b-82a1-2a5de46b2f68",
   "metadata": {},
   "outputs": [
    {
     "data": {
      "text/plain": [
       "6.5"
      ]
     },
     "execution_count": 36,
     "metadata": {},
     "output_type": "execute_result"
    }
   ],
   "source": [
    "a.mean()"
   ]
  },
  {
   "cell_type": "code",
   "execution_count": 37,
   "id": "492e719a-b667-4537-819f-29111064cd44",
   "metadata": {},
   "outputs": [
    {
     "data": {
      "text/plain": [
       "11"
      ]
     },
     "execution_count": 37,
     "metadata": {},
     "output_type": "execute_result"
    }
   ],
   "source": [
    "a.argmax()"
   ]
  },
  {
   "cell_type": "code",
   "execution_count": 38,
   "id": "1a48ab13-3c25-4e66-b2af-1e968832f7de",
   "metadata": {},
   "outputs": [
    {
     "data": {
      "text/plain": [
       "array([[ 3,  6,  9, 12],\n",
       "       [15, 18, 21, 24],\n",
       "       [27, 30, 33, 36]])"
      ]
     },
     "execution_count": 38,
     "metadata": {},
     "output_type": "execute_result"
    }
   ],
   "source": [
    "a*3"
   ]
  },
  {
   "cell_type": "code",
   "execution_count": 39,
   "id": "01ad0dee-8676-41b4-9ecd-e391cd406cb1",
   "metadata": {},
   "outputs": [
    {
     "data": {
      "text/plain": [
       "11"
      ]
     },
     "execution_count": 39,
     "metadata": {},
     "output_type": "execute_result"
    }
   ],
   "source": [
    "a.argmax()"
   ]
  },
  {
   "cell_type": "code",
   "execution_count": 40,
   "id": "d437277b-9752-4449-bc07-6663a41f2845",
   "metadata": {},
   "outputs": [
    {
     "data": {
      "text/plain": [
       "array([[ 4,  5,  6,  7],\n",
       "       [ 8,  9, 10, 11],\n",
       "       [12, 13, 14, 15]])"
      ]
     },
     "execution_count": 40,
     "metadata": {},
     "output_type": "execute_result"
    }
   ],
   "source": [
    "a+3"
   ]
  },
  {
   "cell_type": "markdown",
   "id": "a90745e8-9b57-4d17-812c-2e2328df6858",
   "metadata": {},
   "source": [
    "# random"
   ]
  },
  {
   "cell_type": "code",
   "execution_count": 41,
   "id": "ab836e3a-ff90-4fe9-807f-e0dcb5d297af",
   "metadata": {},
   "outputs": [
    {
     "data": {
      "text/plain": [
       "array([[0.5246241 , 0.65685155],\n",
       "       [0.26027368, 0.8699551 ]])"
      ]
     },
     "execution_count": 41,
     "metadata": {},
     "output_type": "execute_result"
    }
   ],
   "source": [
    "np.random.rand(2,2)"
   ]
  },
  {
   "cell_type": "code",
   "execution_count": 42,
   "id": "a123ac39-8125-4966-8e7b-75458fb879fd",
   "metadata": {},
   "outputs": [
    {
     "data": {
      "text/plain": [
       "array([0.9256262 , 0.83358716])"
      ]
     },
     "execution_count": 42,
     "metadata": {},
     "output_type": "execute_result"
    }
   ],
   "source": [
    "np.random.rand(2)"
   ]
  },
  {
   "cell_type": "code",
   "execution_count": 43,
   "id": "6cc895fe-7305-455a-94f6-50582d33a278",
   "metadata": {},
   "outputs": [
    {
     "data": {
      "text/plain": [
       "array([32, 41, 59, 84, 36])"
      ]
     },
     "execution_count": 43,
     "metadata": {},
     "output_type": "execute_result"
    }
   ],
   "source": [
    "np.random .randint(9,88,5)"
   ]
  },
  {
   "cell_type": "code",
   "execution_count": 47,
   "id": "1f063d57-2cd7-4d03-8540-feeff97d81aa",
   "metadata": {},
   "outputs": [
    {
     "data": {
      "text/plain": [
       "array([[56,  9, 38, 45],\n",
       "       [85, 48, 17, 71]])"
      ]
     },
     "execution_count": 47,
     "metadata": {},
     "output_type": "execute_result"
    }
   ],
   "source": [
    "np.random.randint(9,88,8).reshape(2,4)"
   ]
  },
  {
   "cell_type": "code",
   "execution_count": 48,
   "id": "fc1a8f82-3e4f-4744-ba6e-5f82d99bcba1",
   "metadata": {},
   "outputs": [
    {
     "data": {
      "text/plain": [
       "78"
      ]
     },
     "execution_count": 48,
     "metadata": {},
     "output_type": "execute_result"
    }
   ],
   "source": [
    "a.sum()"
   ]
  },
  {
   "cell_type": "code",
   "execution_count": 49,
   "id": "0a5995b3-987e-42e2-b543-a231aa1cd3f9",
   "metadata": {},
   "outputs": [
    {
     "data": {
      "text/plain": [
       "array([10, 26, 42])"
      ]
     },
     "execution_count": 49,
     "metadata": {},
     "output_type": "execute_result"
    }
   ],
   "source": [
    "a.sum(axis=1)#collumn wise sum"
   ]
  },
  {
   "cell_type": "markdown",
   "id": "d032dc9f-f2db-4ed0-83e3-43d378f16065",
   "metadata": {},
   "source": [
    "# 3D"
   ]
  },
  {
   "cell_type": "code",
   "execution_count": 65,
   "id": "8e06674f-1ad7-46d2-8a7f-4d021bf81b80",
   "metadata": {},
   "outputs": [],
   "source": [
    "d=np.array ([ [[4,40],[5,50],[6,60] ], [ [7,70],[8,80],[9,90] ], [ [5,50],[4,40],[6,60] ] ])"
   ]
  },
  {
   "cell_type": "code",
   "execution_count": 66,
   "id": "7f7cacaf-8719-4e4b-8d14-a97224f56495",
   "metadata": {},
   "outputs": [
    {
     "data": {
      "text/plain": [
       "(3, 3, 2)"
      ]
     },
     "execution_count": 66,
     "metadata": {},
     "output_type": "execute_result"
    }
   ],
   "source": [
    "d.shape"
   ]
  },
  {
   "cell_type": "markdown",
   "id": "897d8f1b-3d44-41b3-880d-e3ffcfeb3205",
   "metadata": {},
   "source": [
    "# nan -not a number "
   ]
  },
  {
   "cell_type": "code",
   "execution_count": 58,
   "id": "3a049399-5bee-498a-b70e-463546eaac6e",
   "metadata": {},
   "outputs": [],
   "source": [
    "x=np.array([12,56,np.nan,66,100,np.nan])"
   ]
  },
  {
   "cell_type": "code",
   "execution_count": 59,
   "id": "b85c5f10-f49d-4485-8cba-a938b023d28d",
   "metadata": {},
   "outputs": [
    {
     "data": {
      "text/plain": [
       "array([ 12.,  56.,  nan,  66., 100.,  nan])"
      ]
     },
     "execution_count": 59,
     "metadata": {},
     "output_type": "execute_result"
    }
   ],
   "source": [
    "x"
   ]
  },
  {
   "cell_type": "code",
   "execution_count": 60,
   "id": "0cd9a547-b2d2-450b-9f12-d59486473cf6",
   "metadata": {},
   "outputs": [
    {
     "data": {
      "text/plain": [
       "dtype('float64')"
      ]
     },
     "execution_count": 60,
     "metadata": {},
     "output_type": "execute_result"
    }
   ],
   "source": [
    "x.dtype"
   ]
  },
  {
   "cell_type": "code",
   "execution_count": null,
   "id": "42852788-9d13-4efe-90c7-9f49206c7d3b",
   "metadata": {},
   "outputs": [],
   "source": []
  }
 ],
 "metadata": {
  "kernelspec": {
   "display_name": "Python 3 (ipykernel)",
   "language": "python",
   "name": "python3"
  },
  "language_info": {
   "codemirror_mode": {
    "name": "ipython",
    "version": 3
   },
   "file_extension": ".py",
   "mimetype": "text/x-python",
   "name": "python",
   "nbconvert_exporter": "python",
   "pygments_lexer": "ipython3",
   "version": "3.9.12"
  }
 },
 "nbformat": 4,
 "nbformat_minor": 5
}
