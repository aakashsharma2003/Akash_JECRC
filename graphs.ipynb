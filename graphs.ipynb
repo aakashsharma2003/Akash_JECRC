{
 "cells": [
  {
   "cell_type": "code",
   "execution_count": 6,
   "metadata": {},
   "outputs": [],
   "source": [
    "import matplotlib.pyplot as plt"
   ]
  },
  {
   "cell_type": "code",
   "execution_count": null,
   "metadata": {},
   "outputs": [],
   "source": [
    "a=[20,30,]"
   ]
  },
  {
   "cell_type": "markdown",
   "metadata": {},
   "source": [
    "Types of Graphs \n",
    "1. plot-         line graph,between two parameters\n",
    "2. bar-          bar graph of a single parameter (OPTIONAL)\n",
    "3. hist-         histogram of a bunch of data i.e Frequency of single parameter\n",
    "4. scatter-      dot graph between two params\n",
    "5. boxplot/ box\n",
    "6. stem\n",
    "7. violinplot"
   ]
  }
 ],
 "metadata": {
  "kernelspec": {
   "display_name": "Python 3.9.12 ('base')",
   "language": "python",
   "name": "python3"
  },
  "language_info": {
   "codemirror_mode": {
    "name": "ipython",
    "version": 3
   },
   "file_extension": ".py",
   "mimetype": "text/x-python",
   "name": "python",
   "nbconvert_exporter": "python",
   "pygments_lexer": "ipython3",
   "version": "3.9.12"
  },
  "orig_nbformat": 4,
  "vscode": {
   "interpreter": {
    "hash": "d9041bf66d947271f5646b16117514a6a187d923f1bf7243331dd5576c39fec1"
   }
  }
 },
 "nbformat": 4,
 "nbformat_minor": 2
}
